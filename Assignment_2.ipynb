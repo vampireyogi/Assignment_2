{
 "cells": [
  {
   "cell_type": "markdown",
   "id": "35365fa4",
   "metadata": {},
   "source": [
    "1.What are the two values of the Boolean data type? How do you write them?\n",
    "- Two values are:-\n",
    "- True\n",
    "- False"
   ]
  },
  {
   "cell_type": "markdown",
   "id": "97cd4980",
   "metadata": {},
   "source": [
    "2. What are the three different types of Boolean operators?\n",
    "- and\n",
    "- or\n",
    "- not"
   ]
  },
  {
   "cell_type": "markdown",
   "id": "166098c3",
   "metadata": {},
   "source": [
    "3.Make a list of each Boolean operator's truth tables (i.e. every possible combination of Boolean values for the operator and what it evaluate ).\n",
    "- True and True\n",
    ":- True\n",
    "- False and True\n",
    ":- False\n",
    "- not(True and False)\n",
    ":- True\n",
    "- False or True\n",
    ":- True\n",
    "- False or False\n",
    ":- False\n",
    "- not(False or True)\n",
    ":- False\n",
    "- not(not(True or True))\n",
    ":- True "
   ]
  },
  {
   "cell_type": "markdown",
   "id": "fabcb402",
   "metadata": {},
   "source": [
    "4. What are the values of the following expressions?\n",
    "- (5 > 4) and (3 == 5)\n",
    " output:- False\n",
    "- not (5 > 4)\n",
    " output:- False\n",
    "- (5 > 4) or (3 == 5)\n",
    " output:- True\n",
    "- not ((5 > 4) or (3 == 5))\n",
    " output:- False\n",
    "- (True and True) and (True == False)\n",
    " output:- False\n",
    "- (not False) or (not True)\n",
    " output:- True\n"
   ]
  },
  {
   "cell_type": "code",
   "execution_count": 20,
   "id": "d3f95c94",
   "metadata": {},
   "outputs": [
    {
     "name": "stdout",
     "output_type": "stream",
     "text": [
      "False False True False False True "
     ]
    }
   ],
   "source": [
    "a= (5 > 4) and (3 == 5)\n",
    "b= not (5 > 4)\n",
    "c= (5 > 4) or (3 == 5)\n",
    "d= not ((5 > 4) or (3 == 5))\n",
    "e= (True and True) and (True == False)\n",
    "f= (not False) or (not True)\n",
    "print(a,b,c,d,e,f, end=\" \")"
   ]
  },
  {
   "cell_type": "markdown",
   "id": "bf4ad636",
   "metadata": {},
   "source": [
    "5. What are the six comparison operators?\n",
    "- Equal to(==)\n",
    "- Not equal to(!=)\n",
    "- Less than(<)\n",
    "- Greater than(>)\n",
    "- Less than or equal to (<=)\n",
    "- Greater than or equal to (>=)"
   ]
  },
  {
   "cell_type": "markdown",
   "id": "2b7b8fac",
   "metadata": {},
   "source": [
    "6. How do you tell the difference between the equal to and assignment operators?Describe a condition and when you would use one.\n",
    "- Equal to operator is use to check two values are same while assignment operators is use to assign value."
   ]
  },
  {
   "cell_type": "code",
   "execution_count": 1,
   "id": "b1f4ecd3",
   "metadata": {},
   "outputs": [
    {
     "name": "stdout",
     "output_type": "stream",
     "text": [
      "True\n"
     ]
    }
   ],
   "source": [
    "#e.g.\n",
    "a=10 #Assignment operator\n",
    "print(a==10) #Equal to is use to check the condition"
   ]
  },
  {
   "cell_type": "markdown",
   "id": "3f538710",
   "metadata": {},
   "source": [
    "7. Identify the three blocks in this code:"
   ]
  },
  {
   "cell_type": "code",
   "execution_count": 21,
   "id": "1af6bfda",
   "metadata": {},
   "outputs": [
    {
     "name": "stdout",
     "output_type": "stream",
     "text": [
      "ham\n",
      "spam\n",
      "spam\n"
     ]
    }
   ],
   "source": [
    "# A code block is a group of statements that will be run as a unit\n",
    "spam = 0\n",
    "if spam == 10:      # 1st Block\n",
    "    print('eggs')\n",
    "if spam > 5:        # 2nd Block\n",
    "    print('bacon')\n",
    "else:               # 3rd Block\n",
    "    print('ham')\n",
    "    print('spam')\n",
    "    print('spam')\n",
    "\n"
   ]
  },
  {
   "cell_type": "markdown",
   "id": "95795b85",
   "metadata": {},
   "source": [
    "8. Write code that prints Hello if 1 is stored in spam, prints Howdy if 2 is stored in spam, and prints Greetings! if anything else is stored in spam."
   ]
  },
  {
   "cell_type": "code",
   "execution_count": 24,
   "id": "4aa2af95",
   "metadata": {},
   "outputs": [
    {
     "name": "stdout",
     "output_type": "stream",
     "text": [
      "Choose 1,2 or any number 22\n",
      "Greetings\n"
     ]
    }
   ],
   "source": [
    "spam=int(input(\"Choose 1,2 or any number \"))\n",
    "if spam==1:\n",
    "    print(\"Hello\")\n",
    "elif spam==2:\n",
    "    print(\"Howdy\")\n",
    "else :\n",
    "    print(\"Greetings\")"
   ]
  },
  {
   "cell_type": "markdown",
   "id": "cd18b6af",
   "metadata": {},
   "source": [
    "9. If your programme is stuck in an endless loop, what keys you’ll press?\n",
    "- ctrl+c or directly stop kernel"
   ]
  },
  {
   "cell_type": "markdown",
   "id": "7be6577e",
   "metadata": {},
   "source": [
    "10. How can you tell the difference between break and continue?\n",
    "- The break is used to end/terminate the loop. The continue is used to skip the current iteration of the loop and move to the next one."
   ]
  },
  {
   "cell_type": "markdown",
   "id": "ec875649",
   "metadata": {},
   "source": [
    "11. In a for loop, what is the difference between range(10), range(0, 10), and range(0, 10, 1)?\n",
    "- range(10) :- contain end limit of range.\n",
    "- range(0,10) :- contain start,end limit of range.\n",
    "- range(0,10,1) :- contain start limit , end limit and step."
   ]
  },
  {
   "cell_type": "markdown",
   "id": "4603f146",
   "metadata": {},
   "source": [
    "12. Write a short program that prints the numbers 1 to 10 using a for loop. Then write an equivalent program that prints the numbers 1 to 10 using a while loop."
   ]
  },
  {
   "cell_type": "code",
   "execution_count": 1,
   "id": "e61a7f54",
   "metadata": {},
   "outputs": [
    {
     "name": "stdout",
     "output_type": "stream",
     "text": [
      "For Loop\n",
      "1\n",
      "2\n",
      "3\n",
      "4\n",
      "5\n",
      "6\n",
      "7\n",
      "8\n",
      "9\n",
      "10\n",
      "While Loop\n",
      "1\n",
      "2\n",
      "3\n",
      "4\n",
      "5\n",
      "6\n",
      "7\n",
      "8\n",
      "9\n",
      "10\n"
     ]
    }
   ],
   "source": [
    "n=10\n",
    "print(\"For Loop\")\n",
    "for i in range(1,n+1):\n",
    "    print(i)\n",
    "a=1\n",
    "print(\"While Loop\")\n",
    "while a<=10:\n",
    "    print(a)\n",
    "    a+=1"
   ]
  },
  {
   "cell_type": "markdown",
   "id": "227894dc",
   "metadata": {},
   "source": [
    "13. If you had a function named bacon() inside a module named spam, how would you call it after importing spam?\n",
    "- spam.bacon()\n",
    "- module name.function name"
   ]
  },
  {
   "cell_type": "code",
   "execution_count": null,
   "id": "8830e148",
   "metadata": {},
   "outputs": [],
   "source": []
  },
  {
   "cell_type": "code",
   "execution_count": null,
   "id": "9fdd958a",
   "metadata": {},
   "outputs": [],
   "source": []
  }
 ],
 "metadata": {
  "kernelspec": {
   "display_name": "Python 3 (ipykernel)",
   "language": "python",
   "name": "python3"
  },
  "language_info": {
   "codemirror_mode": {
    "name": "ipython",
    "version": 3
   },
   "file_extension": ".py",
   "mimetype": "text/x-python",
   "name": "python",
   "nbconvert_exporter": "python",
   "pygments_lexer": "ipython3",
   "version": "3.11.3"
  }
 },
 "nbformat": 4,
 "nbformat_minor": 5
}
